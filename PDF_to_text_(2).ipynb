{
  "nbformat": 4,
  "nbformat_minor": 0,
  "metadata": {
    "colab": {
      "provenance": [],
      "include_colab_link": true
    },
    "kernelspec": {
      "name": "python3",
      "display_name": "Python 3"
    },
    "language_info": {
      "name": "python"
    }
  },
  "cells": [
    {
      "cell_type": "markdown",
      "metadata": {
        "id": "view-in-github",
        "colab_type": "text"
      },
      "source": [
        "<a href=\"https://colab.research.google.com/github/gusungaretti/PortfolioWebsite/blob/main/PDF_to_text_(2).ipynb\" target=\"_parent\"><img src=\"https://colab.research.google.com/assets/colab-badge.svg\" alt=\"Open In Colab\"/></a>"
      ]
    },
    {
      "cell_type": "code",
      "execution_count": null,
      "metadata": {
        "colab": {
          "base_uri": "https://localhost:8080/"
        },
        "id": "_qCZRxN4KhSJ",
        "outputId": "7a322093-39b6-49f6-d56c-6b227aa961f6"
      },
      "outputs": [
        {
          "output_type": "stream",
          "name": "stdout",
          "text": [
            "Looking in indexes: https://pypi.org/simple, https://us-python.pkg.dev/colab-wheels/public/simple/\n",
            "Collecting PyPDF2\n",
            "  Downloading pypdf2-3.0.1-py3-none-any.whl (232 kB)\n",
            "\u001b[2K     \u001b[90m━━━━━━━━━━━━━━━━━━━━━━━━━━━━━━━━━━━━━━\u001b[0m \u001b[32m232.6/232.6 kB\u001b[0m \u001b[31m13.5 MB/s\u001b[0m eta \u001b[36m0:00:00\u001b[0m\n",
            "\u001b[?25hInstalling collected packages: PyPDF2\n",
            "Successfully installed PyPDF2-3.0.1\n"
          ]
        }
      ],
      "source": [
        "!pip install PyPDF2"
      ]
    },
    {
      "cell_type": "code",
      "source": [
        "import PyPDF2\n",
        "\n",
        "def pdf_reader(file_name,file_type):\n",
        "  # Open the PDF file in read binary mode\n",
        "  with open(file_name, 'rb') as file:\n",
        "      # Create a PDF reader object\n",
        "      pdf_reader = PyPDF2.PdfReader(file)\n",
        "\n",
        "      # Get the number of pages in the PDF\n",
        "      num_pages = len(pdf_reader.pages)\n",
        "\n",
        "      # Initialize an empty list for the words\n",
        "      words = []\n",
        "\n",
        "      # Iterate over each page and extract the text\n",
        "      for page_number in range(num_pages):\n",
        "          # Extract the text from the current page\n",
        "          page = pdf_reader.pages[page_number]\n",
        "          text = page.extract_text()\n",
        "\n",
        "          # Split the text into words and convert to lowercase\n",
        "          words.extend([word.lower() for word in text.split()])\n",
        "\n",
        "  print(words)\n",
        "\n",
        "  if file_type == \"Paynet\":\n",
        "\n",
        "    #Extract the different info\n",
        "    ms = \"\".join([word[-3:] for idx,word in enumerate(words) if words[idx-1] == 'miningpaynet'])\n",
        "    oldest_trade = \"\".join([word for idx,word in enumerate(words) if words[idx-3] == 'oldest'])\n",
        "    open_contracts = \"\".join([word for idx,word in enumerate(words) if words[idx-2] == 'open'])\n",
        "    closed_contracts = \"\".join([word for idx, word in enumerate(words) if words[idx-2] == 'closed'])\n",
        "    gor = \"\".join([word for idx, word in enumerate(words) if words[idx-3] == 'gross'])\n",
        "    to = \"\".join([word for idx, word in enumerate(words) if words[idx-1] == 'receivable' and words[idx-2] == 'outstanding'])\n",
        "\n",
        "    occurence_dic = {\n",
        "        0: \"1-30\",\n",
        "        1: \"31-60\",\n",
        "        2: \"61-90\",\n",
        "        3: \"91+\"\n",
        "    }\n",
        "    occurence_list = []\n",
        "    occurences = \"\"\n",
        "\n",
        "    occurence_list += \"\".join([word for idx, word in enumerate(words) if words[idx-1] == '30' and words[idx-2] == '-'])\n",
        "    occurence_list += \"\".join([word for idx, word in enumerate(words) if words[idx-1] == '31-60'])[0]\n",
        "    occurence_list += \"\".join([word for idx, word in enumerate(words) if words[idx-1] == '61-90'])[0]\n",
        "    occurence_list += \"\".join([word for idx, word in enumerate(words) if words[idx-1] == '91+'])[0]\n",
        "\n",
        "    for idx, item in enumerate(occurence_list):\n",
        "      if item != \"0\":\n",
        "        occurences += (f\"{occurence_dic.get(idx)}: {item} \")\n",
        "\n",
        "    print(occurences)\n",
        "\n",
        "    if not occurences:\n",
        "      clean = 'clean repayment'\n",
        "    else:\n",
        "      clean = 'slows to mention'\n",
        "\n",
        "\n",
        "    print(f\"ms {ms} - {open_contracts} open, {closed_contracts} closed - {gor} GOR w/ {to} TO - oldest trade {oldest_trade} - {clean} \")\n",
        "\n",
        "  if file_type == \"CB\":\n",
        "    pass\n",
        "\n",
        "pdf_reader(\"Paynet.pdf\",\"Paynet\")\n",
        "\n"
      ],
      "metadata": {
        "colab": {
          "base_uri": "https://localhost:8080/"
        },
        "id": "a8mGp3jyKzGh",
        "outputId": "d4077052-dfe8-4421-a65b-5f987bd98576"
      },
      "execution_count": 7,
      "outputs": [
        {
          "output_type": "stream",
          "name": "stdout",
          "text": [
            "['for', 'use', 'of', 'paynet', 'member', 'mitsubishi', 'hc', 'capital', 'canada,', 'inc.', 'only', 'report', '#106468134', 'on', '6/14/2023', 'credit', 'history', 'report', 'company', 'name', 'gas', 'track', 'engineering', 'ltd.', 'address/phone10118', 'covington', 'way', 'grande', 'prairie,', 'ab', 't8x', '0g4', '(780)', '228-1080', 'paynet', 'id', '1004665551', 'oldest', 'contract', 'may', '2019', 'sic', 'codes', '8911', '-', 'engineering', '&', 'architectural', 'svcs', 'primary', 'equip', 'cnst-construction', '&', 'miningpaynet', 'masterscore®709', 'percentile', '69', '(above', 'avg.)', 'key', 'factors', 'in', 'masterscore', 'impact', 'on', 'score', 'newer', 'borrower', 'negative', 'borrowings', 'paid', 'down', 'positive', 'recent', '/', 'overall', 'prompt', 'payments', 'positive', 'recent', 'avg', 'days', 'past', 'due', '0', 'historical', 'avg', 'days', 'past', 'due', '0', 'total', 'outstanding', 'receivable', '$92,250', 'annualized', 'scheduled', 'payments', '$64,917', 'payment', 'summary', 'occurrences', 'last', 'time', 'this', 'delinquentoutstanding', 'receivablepercent', 'of', 'outstandingspayment', 'past', 'due', 'current', '$92,250', '100%', '1', '-', '30', '0', 'never', '$0', '0%', '$0', '31-60', '0', 'never', '$0', '0%', '$0', '61-90', '0', 'never', '$0', '0%', '$0', '91+', '0', 'never', '$0', '0%', '$0', 'total', '31+', '0', '$0', '0%', '$0', 'all', 'accounts', 'due', 'to', 'date', '=', '86', '$92,250', '100%', 'gross', 'original', 'receivable', '$271,223', 'outstanding', '/', 'original', 'receivable', '34%number', 'of', 'open', 'contracts', '3', 'number', 'of', 'closed', 'contracts', '0', 'high', 'credit', 'ever', 'outstanding', '$157,662', 'outstanding', '/', 'high', 'credit', 'ever', '59%average', 'high', 'credit', 'per', 'lender', '$115,341', 'average', 'term', 'months', '46', 'paynet', 'credit', 'inquiries', 'jun', 'may', 'apr', 'mar', 'feb', 'jan', '1', '0', '0', '0', '0', '0', '-', '1', '-', 'payment', 'detail', 'member', 'lender', '1', 'primary', 'industry', 'as', 'ofgenl', '05/16/23gross', 'orig', 'rec', 'outstanding', 'high', 'credit', 'outstanding', '/', 'high$73,021', '$50,709', '$73,021', '69%payments', 'p.d.', '1-30', 'payments', 'p.d.', '31-60', 'payments', 'p.d.', '61-90', 'payments', 'p.d.', '91+$0', '$0', '$0', '$0last', 'time', '1-30', 'last', 'time', '31-60', 'last', 'time', '61-90', 'last', 'time', '91+never', 'never', 'never', 'never', '#collat', 'contract', 'guarstart', 'renw', 'closeterm', 'freq', 'due', 'tdlast', 'paid', 'next', 'dueoriginal', 'amountbalance', 'amountpayment', 'amount', '(closed)days', 'past', 'due', '(in', 'renewal)', 'now', 'avg', 'max', 'max', 'ondelinquencies', '(in', 'renewal)', '1+', '31+', '61+', '91+status', 'loss', '1offc', 'trulease', 'no7/22', '-', '-36', 'mo', '1005/15/23', '06/15/23$73,021', '$50,709', '$2,028', '0', '0', '0', '-', '0', '0', '0', '0-', '$0', 'lender', 'totals:', '$73,021', '$50,709', '$2,028', '0', '0', '0', '0', '$0', 'member', 'lender', '2', 'primary', 'industry', 'as', 'ofgenl', '05/31/23gross', 'orig', 'rec', 'outstanding', 'high', 'credit', 'outstanding', '/', 'high$198,203', '$41,542', '$157,662', '26%payments', 'p.d.', '1-30', 'payments', 'p.d.', '31-60', 'payments', 'p.d.', '61-90', 'payments', 'p.d.', '91+$0', '$0', '$0', '$0last', 'time', '1-30', 'last', 'time', '31-60', 'last', 'time', '61-90', 'last', 'time', '91+never', 'never', 'never', 'never', '#collat', 'contract', 'guarstart', 'renw', 'closeterm', 'freq', 'due', 'tdlast', 'paid', 'next', 'dueoriginal', 'amountbalance', 'amountpayment', 'amount', '(closed)days', 'past', 'due', '(in', 'renewal)', 'now', 'avg', 'max', 'max', 'ondelinquencies', '(in', 'renewal)', '1+', '31+', '61+', '91+status', 'loss', '2retl', 'trulease', '-1/21', '-', '-42', 'mo', '2805/01/23', '06/01/23$40,541', '$12,548', '$965', '0', '0', '0', '-', '0', '0', '0', '0-', '$0', '3cnst', 'trulease', '-5/19', '-', '-61', 'mo', '4805/01/23', '06/01/23$157,662', '$28,993', '$2,416', '0', '0', '0', '-', '0', '0', '0', '0-', '$0', 'lender', 'totals:', '$198,203', '$41,542', '$3,381', '0', '0', '0', '0', '$0', 'grand', 'totals:', '$271,223', '$92,250', '$5,410', '0', '0', '0', '0', '$0', 'specific', 'entities', '#', 'obligor', 'entity', 'name', 'address', 'phone', '1', 'gas', 'track', 'engineering', 'ltd.', '10118', 'covington', 'way,', 'grande', 'prairie,', 'ab', 't8x', '0g4', '(780)', '228-1080', '2-3', 'gas', 'track', 'engineering', 'ltd', '10118', 'covington', 'way,', 'grande', 'prairie,', 'ab', 't8x', '0g4', '(780)', '228-1080', 'the', 'information', 'presented', 'here', 'is', 'confidential', 'and', 'is', 'supplied', 'according', 'to', 'the', 'terms', 'and', 'conditions', 'of', 'the', 'paynet', 'member', 'agreement.', 'without', 'limiting', 'the', 'foregoing,', 'the', 'information', 'is', 'supplied', '\"as', 'is\"', 'and', 'paynet,', 'inc.,', 'its', 'affiliates,', 'and', 'sources,', 'disclaim', 'all', 'express', 'and', 'implied', 'warranties', 'including,', 'but', 'not', 'limited', 'to,', 'any', 'warranties', 'of', 'performance,', 'merchantability,', 'usefulness,', 'quality,', 'completeness,', 'accuracy,', 'fitness', 'for', 'a', 'particular', 'purpose', 'and', 'non-infringement,', 'and', 'shall', 'not', 'be', 'liable', 'for', 'any', 'loss,', 'injury,', 'or', 'damages,', 'direct,', 'indirect,', 'special,', 'consequential', 'or', 'lost', 'profits,', 'which', 'may', 'result', 'from', 'your', 'use,', 'possession', 'or', 'reliance', 'upon', 'any', 'of', 'the', 'information', 'presented', 'herein.', 'this', 'report', 'is', 'to', 'be', 'used', 'for', 'legitimate', 'business', 'purposes', 'only', 'and', 'shall', 'not', 'be', 'reproduced.', 'paynet,', 'inc.', 'web:', 'http://www.paynetonline.ca;', 'email:', 'paynetsupport@equifax.com;', 'phone:', '866-825-3400.', '-', '2', '-']\n",
            "\n",
            "ms 709 - 3 open, 0 closed - $271,223 GOR w/ $92,250 TO - oldest trade 2019 - clean repayment \n"
          ]
        }
      ]
    }
  ]
}